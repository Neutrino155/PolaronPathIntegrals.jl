{
 "cells": [
  {
   "cell_type": "code",
   "execution_count": 1,
   "metadata": {},
   "outputs": [
    {
     "data": {
      "text/plain": [
       "ℜD (generic function with 1 method)"
      ]
     },
     "execution_count": 1,
     "metadata": {},
     "output_type": "execute_result"
    }
   ],
   "source": [
    "function ℜD(x, y, v, w, β)\n",
    "    x = BigFloat(x)\n",
    "    y = BigFloat(y)\n",
    "    β = BigFloat(β)\n",
    "    v = BigFloat(v)\n",
    "    w = BigFloat(w)\n",
    "\n",
    "    R = (v^2 - w^2) / (w^2 * v)\n",
    "    a_squared = β^2 / 4 + R * β * coth(β * v / 2)\n",
    "    b = R * β / sinh(β * v / 2)\n",
    "\n",
    "    w^2 * (a_squared - β^2 / 4 - b * cos(v * x) * cosh(v * (y - β / 2)) + x^2 + y * (β - y)) / (β * v^2)\n",
    "end"
   ]
  },
  {
   "cell_type": "code",
   "execution_count": 2,
   "metadata": {},
   "outputs": [
    {
     "data": {
      "text/plain": [
       "ℑD (generic function with 1 method)"
      ]
     },
     "execution_count": 2,
     "metadata": {},
     "output_type": "execute_result"
    }
   ],
   "source": [
    "function ℑD(x, y, v, w, β)\n",
    "    x = BigFloat(x)\n",
    "    y = BigFloat(y)\n",
    "    β = BigFloat(β)\n",
    "    v = BigFloat(v)\n",
    "    w = BigFloat(w)\n",
    "\n",
    "    R = (v^2 - w^2) / (w^2 * v)\n",
    "    a_squared = β^2 / 4 + R * β * coth(β * v / 2)\n",
    "    b = R * β / sinh(β * v / 2)\n",
    "\n",
    "    w^2 * (b * sin(v * x) * sinh(v * (y - β / 2)) + 2 * x * (y - β / 2)) / (β * v^2)\n",
    "end"
   ]
  },
  {
   "cell_type": "code",
   "execution_count": 3,
   "metadata": {},
   "outputs": [
    {
     "data": {
      "text/plain": [
       "D (generic function with 1 method)"
      ]
     },
     "execution_count": 3,
     "metadata": {},
     "output_type": "execute_result"
    }
   ],
   "source": [
    "D(x, y, v, w, β) = ℜD(x, y, v, w, β) + 1im * ℑD(x, y, v, w, β)"
   ]
  },
  {
   "cell_type": "code",
   "execution_count": 4,
   "metadata": {},
   "outputs": [
    {
     "data": {
      "text/plain": [
       "ℜS (generic function with 1 method)"
      ]
     },
     "execution_count": 4,
     "metadata": {},
     "output_type": "execute_result"
    }
   ],
   "source": [
    "function ℜS(x, y, v, w, β, α)\n",
    "    x = BigFloat(x)\n",
    "    y = BigFloat(y)\n",
    "    β = BigFloat(β)\n",
    "    α = BigFloat(α)\n",
    "    v = BigFloat(v)\n",
    "    w = BigFloat(w)\n",
    "\n",
    "    θ = angle(D(x, y, v, w, β))\n",
    "    r_squared = abs2(D(x, y, v, w, β))\n",
    "\n",
    "    2 * α * (cos(3 * θ / 2) * cos(x) * cosh(y - β / 2) - sin(3 * θ / 2) * sin(x) * sinh(y - β / 2)) / (3 * sqrt(π) * sinh(β / 2) * r_squared^(3 / 4))\n",
    "end"
   ]
  },
  {
   "cell_type": "code",
   "execution_count": 5,
   "metadata": {},
   "outputs": [
    {
     "data": {
      "text/plain": [
       "ℑS (generic function with 1 method)"
      ]
     },
     "execution_count": 5,
     "metadata": {},
     "output_type": "execute_result"
    }
   ],
   "source": [
    "function ℑS(x, y, v, w, β, α)\n",
    "    x = BigFloat(x)\n",
    "    y = BigFloat(y)\n",
    "    β = BigFloat(β)\n",
    "    α = BigFloat(α)\n",
    "    v = BigFloat(v)\n",
    "    w = BigFloat(w)\n",
    "\n",
    "    θ = angle(D(x, y, v, w, β))\n",
    "    r_squared = abs2(D(x, y, v, w, β))\n",
    "\n",
    "    -2 * α * (cos(3 * θ / 2) * sin(x) * sinh(y - β / 2) + sin(3 * θ / 2) * cos(x) * cosh(y - β / 2)) / (3 * sqrt(π) * sinh(β / 2) * r_squared^(3 / 4))\n",
    "end"
   ]
  },
  {
   "cell_type": "code",
   "execution_count": 6,
   "metadata": {},
   "outputs": [
    {
     "data": {
      "text/plain": [
       "S (generic function with 1 method)"
      ]
     },
     "execution_count": 6,
     "metadata": {},
     "output_type": "execute_result"
    }
   ],
   "source": [
    "S(x, y, v, w, β, α) = ℜS(x, y, v, w, β, α) + 1im * ℑS(x, y, v, w, β, α)"
   ]
  },
  {
   "cell_type": "code",
   "execution_count": 7,
   "metadata": {},
   "outputs": [],
   "source": [
    "using QuadGK"
   ]
  },
  {
   "cell_type": "code",
   "execution_count": 8,
   "metadata": {},
   "outputs": [
    {
     "data": {
      "text/plain": [
       "ℜχ (generic function with 1 method)"
      ]
     },
     "execution_count": 8,
     "metadata": {},
     "output_type": "execute_result"
    }
   ],
   "source": [
    "function ℜχ(Ω, β, α, v, w)\n",
    "    integrand(x) = (1 - cos(Ω * x)) * ℑS(x, 0.0, v, w, β, α)\n",
    "    return QuadGK.quadgk(x -> integrand(x), BigFloat(0.0), Inf; maxevals=10^4, order = 7)[1]\n",
    "end"
   ]
  },
  {
   "cell_type": "code",
   "execution_count": 9,
   "metadata": {},
   "outputs": [
    {
     "data": {
      "text/plain": [
       "ℑχ (generic function with 1 method)"
      ]
     },
     "execution_count": 9,
     "metadata": {},
     "output_type": "execute_result"
    }
   ],
   "source": [
    "function ℑχ(Ω, β, α, v, w)\n",
    "    integrand(x) = sin(Ω * x) * ℑS(x, 0.0, v, w, β, α)\n",
    "    return QuadGK.quadgk(x -> integrand(x), BigFloat(0.0), Inf; maxevals=10^4, order = 7)[1]\n",
    "end"
   ]
  },
  {
   "cell_type": "code",
   "execution_count": 10,
   "metadata": {},
   "outputs": [],
   "source": [
    "using Plots"
   ]
  },
  {
   "cell_type": "code",
   "execution_count": null,
   "metadata": {},
   "outputs": [],
   "source": [
    "Ω_range = range(0.01, stop = 22, length = 100)\n",
    "Reχ = [ℜχ(Ω, 100, 5.0, 4.0, 2.1) for Ω in Ω_range]\n",
    "Imχ = [ℑχ(Ω, 100, 5.0, 4.0, 2.1) for Ω in Ω_range]\n",
    "\n",
    "p = plot(Ω_range, Reχ)\n",
    "plot!(Ω_range, Imχ)\n",
    "display(p)"
   ]
  },
  {
   "cell_type": "code",
   "execution_count": null,
   "metadata": {},
   "outputs": [],
   "source": [
    "χ(Ω, β, α, v, w) = ℜχ(Ω, β, α, v, w) + 1im * ℑχ(Ω, β, α, v, w)"
   ]
  },
  {
   "cell_type": "code",
   "execution_count": null,
   "metadata": {},
   "outputs": [],
   "source": [
    "function Γ(Ω, β, α, v, w)\n",
    "    z = 1im * (Ω - χ(Ω, β, α, v, w) / Ω)\n",
    "    abs(1 / z)\n",
    "end"
   ]
  },
  {
   "cell_type": "code",
   "execution_count": null,
   "metadata": {},
   "outputs": [],
   "source": [
    "Ω_range = range(0.01, stop = 22, length = 100)\n",
    "absorption = [Γ(Ω, β, α, v, w) for Ω in Ω_range]\n",
    "\n",
    "p = plot(Ω_range, absorption)\n",
    "display(p)"
   ]
  },
  {
   "cell_type": "code",
   "execution_count": null,
   "metadata": {},
   "outputs": [],
   "source": []
  }
 ],
 "metadata": {
  "kernelspec": {
   "display_name": "Julia 1.5.2",
   "language": "julia",
   "name": "julia-1.5"
  },
  "language_info": {
   "file_extension": ".jl",
   "mimetype": "application/julia",
   "name": "julia",
   "version": "1.5.2"
  }
 },
 "nbformat": 4,
 "nbformat_minor": 4
}
